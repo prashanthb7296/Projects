{
  "cells": [
    {
      "cell_type": "markdown",
      "source": [
        "# Python Basics"
      ],
      "metadata": {
        "id": "g1ASWe8qjy57"
      },
      "id": "g1ASWe8qjy57"
    },
    {
      "cell_type": "markdown",
      "source": [
        "Name: Prashanth B"
      ],
      "metadata": {
        "id": "fbxM_SPHj2yb"
      },
      "id": "fbxM_SPHj2yb"
    },
    {
      "cell_type": "code",
      "execution_count": null,
      "id": "edf02e59",
      "metadata": {
        "id": "edf02e59"
      },
      "outputs": [],
      "source": [
        "#Python data types\n",
        "# Text Type:\tstr\n",
        "# Numeric Types:\tint, float, complex\n",
        "# Sequence Types:\tlist, tuple, range\n",
        "# Mapping Type:\tdict\n",
        "# Set Types:\tset, frozenset\n",
        "# Boolean Type:\tbool\n",
        "# Binary Types:\tbytes, bytearray, memoryview\n",
        "# None Type:\tNoneType"
      ]
    },
    {
      "cell_type": "code",
      "execution_count": null,
      "id": "62a5d0ea",
      "metadata": {
        "id": "62a5d0ea",
        "outputId": "4d7e56d0-e53d-401d-f7dc-12170c7092de"
      },
      "outputs": [
        {
          "name": "stdout",
          "output_type": "stream",
          "text": [
            "<class 'int'>\n"
          ]
        }
      ],
      "source": [
        "x = 5\n",
        "print(type(x))"
      ]
    },
    {
      "cell_type": "code",
      "execution_count": null,
      "id": "7af65568",
      "metadata": {
        "id": "7af65568",
        "outputId": "54866212-fda3-487c-e0e4-8bc03317a134"
      },
      "outputs": [
        {
          "name": "stdout",
          "output_type": "stream",
          "text": [
            "<class 'str'>\n"
          ]
        }
      ],
      "source": [
        "x = \"Hello World\"\n",
        "print(type(x))"
      ]
    },
    {
      "cell_type": "code",
      "execution_count": null,
      "id": "a4034a61",
      "metadata": {
        "id": "a4034a61",
        "outputId": "a6a49a36-2ff0-42e0-8aa1-c33086ee8b38"
      },
      "outputs": [
        {
          "name": "stdout",
          "output_type": "stream",
          "text": [
            "<class 'int'>\n"
          ]
        }
      ],
      "source": [
        "x = 20\n",
        "print(type(x))"
      ]
    },
    {
      "cell_type": "code",
      "execution_count": null,
      "id": "44539aa4",
      "metadata": {
        "id": "44539aa4",
        "outputId": "4960612e-656a-43c3-fee4-963a60d1b826"
      },
      "outputs": [
        {
          "name": "stdout",
          "output_type": "stream",
          "text": [
            "<class 'float'>\n"
          ]
        }
      ],
      "source": [
        "x = 20.5\n",
        "print(type(x))"
      ]
    },
    {
      "cell_type": "code",
      "execution_count": null,
      "id": "cc33e6a3",
      "metadata": {
        "id": "cc33e6a3",
        "outputId": "6426e922-cc1e-4856-ef09-c788de958726"
      },
      "outputs": [
        {
          "name": "stdout",
          "output_type": "stream",
          "text": [
            "<class 'complex'>\n"
          ]
        }
      ],
      "source": [
        "x = 1j\n",
        "print(type(x))"
      ]
    },
    {
      "cell_type": "code",
      "execution_count": null,
      "id": "85442802",
      "metadata": {
        "id": "85442802",
        "outputId": "bc9d680a-1f8b-478a-a49a-4a72dbec5aa5"
      },
      "outputs": [
        {
          "name": "stdout",
          "output_type": "stream",
          "text": [
            "<class 'list'>\n"
          ]
        }
      ],
      "source": [
        "x = [\"apple\", \"banana\", \"cherry\"]\n",
        "print(type(x))"
      ]
    },
    {
      "cell_type": "code",
      "execution_count": null,
      "id": "5741b581",
      "metadata": {
        "id": "5741b581",
        "outputId": "956bafe1-c21c-4d64-a345-ff8e71062069"
      },
      "outputs": [
        {
          "name": "stdout",
          "output_type": "stream",
          "text": [
            "<class 'tuple'>\n"
          ]
        }
      ],
      "source": [
        "x = (\"apple\", \"banana\", \"cherry\")\n",
        "print(type(x))"
      ]
    },
    {
      "cell_type": "code",
      "execution_count": null,
      "id": "6bc4a751",
      "metadata": {
        "id": "6bc4a751",
        "outputId": "75fddae4-38c0-43cd-b3c1-8d8c5ef48ba0"
      },
      "outputs": [
        {
          "name": "stdout",
          "output_type": "stream",
          "text": [
            "<class 'range'>\n"
          ]
        }
      ],
      "source": [
        "x = range(6)\n",
        "print(type(x))"
      ]
    },
    {
      "cell_type": "code",
      "execution_count": null,
      "id": "6fe40b4a",
      "metadata": {
        "id": "6fe40b4a",
        "outputId": "8a10bca1-ec03-4a78-aae1-775339b5d397"
      },
      "outputs": [
        {
          "name": "stdout",
          "output_type": "stream",
          "text": [
            "<class 'dict'>\n"
          ]
        }
      ],
      "source": [
        "x = {\"name\" : \"John\", \"age\" : 36}\n",
        "print(type(x))"
      ]
    },
    {
      "cell_type": "code",
      "execution_count": null,
      "id": "cedad50b",
      "metadata": {
        "id": "cedad50b",
        "outputId": "4c754ed4-8845-4ed8-ae18-c863477e0058"
      },
      "outputs": [
        {
          "name": "stdout",
          "output_type": "stream",
          "text": [
            "<class 'set'>\n"
          ]
        }
      ],
      "source": [
        "x = {\"apple\", \"banana\", \"cherry\"}\n",
        "print(type(x))"
      ]
    },
    {
      "cell_type": "code",
      "execution_count": null,
      "id": "d00fc52d",
      "metadata": {
        "id": "d00fc52d",
        "outputId": "af635635-e806-4bd1-b8ea-7d1ff027f741"
      },
      "outputs": [
        {
          "name": "stdout",
          "output_type": "stream",
          "text": [
            "<class 'frozenset'>\n"
          ]
        }
      ],
      "source": [
        "x = frozenset({\"apple\", \"banana\", \"cherry\"})\n",
        "print(type(x))"
      ]
    },
    {
      "cell_type": "code",
      "execution_count": null,
      "id": "a8e109e5",
      "metadata": {
        "id": "a8e109e5",
        "outputId": "07d245ed-7512-4b5c-ed1e-8ce3b5d7c32a"
      },
      "outputs": [
        {
          "name": "stdout",
          "output_type": "stream",
          "text": [
            "<class 'bool'>\n"
          ]
        }
      ],
      "source": [
        "x = True\n",
        "print(type(x))"
      ]
    },
    {
      "cell_type": "code",
      "execution_count": null,
      "id": "aa5d2e71",
      "metadata": {
        "id": "aa5d2e71",
        "outputId": "8c587929-d05d-4872-dc9c-2ca9c6acf3bc"
      },
      "outputs": [
        {
          "name": "stdout",
          "output_type": "stream",
          "text": [
            "b'Hello'\n",
            "<class 'bytes'>\n"
          ]
        }
      ],
      "source": [
        "x = b\"Hello\"\n",
        "print(x)\n",
        "print(type(x))"
      ]
    },
    {
      "cell_type": "code",
      "execution_count": null,
      "id": "600a22ae",
      "metadata": {
        "id": "600a22ae",
        "outputId": "aa15319e-e608-496c-d787-4f6d9cf269e2"
      },
      "outputs": [
        {
          "name": "stdout",
          "output_type": "stream",
          "text": [
            "bytearray(b'\\x00\\x00\\x00\\x00\\x00')\n",
            "<class 'bytearray'>\n"
          ]
        }
      ],
      "source": [
        "x = bytearray(5)\n",
        "print(x)\n",
        "print(type(x))"
      ]
    },
    {
      "cell_type": "code",
      "execution_count": null,
      "id": "62157150",
      "metadata": {
        "id": "62157150",
        "outputId": "55d9cf18-0b7d-444c-9997-ee4aba4d7d60"
      },
      "outputs": [
        {
          "name": "stdout",
          "output_type": "stream",
          "text": [
            "<memory at 0x0000022EC05F3E80>\n",
            "<class 'memoryview'>\n"
          ]
        }
      ],
      "source": [
        "x = memoryview(bytes(5))\n",
        "print(x)\n",
        "print(type(x))"
      ]
    },
    {
      "cell_type": "code",
      "execution_count": null,
      "id": "4e63fdc5",
      "metadata": {
        "id": "4e63fdc5",
        "outputId": "ad30dbc7-79b1-4f0f-9dfe-a019630c7166"
      },
      "outputs": [
        {
          "name": "stdout",
          "output_type": "stream",
          "text": [
            "<class 'NoneType'>\n"
          ]
        }
      ],
      "source": [
        "x = None\n",
        "print(type(x))"
      ]
    },
    {
      "cell_type": "code",
      "execution_count": null,
      "id": "3881bde5",
      "metadata": {
        "id": "3881bde5",
        "outputId": "73d53d19-90d7-42aa-e170-2f511c63a298"
      },
      "outputs": [
        {
          "name": "stdout",
          "output_type": "stream",
          "text": [
            "yes\n"
          ]
        }
      ],
      "source": [
        "#if stateements\n",
        "x = 0\n",
        "y = 5\n",
        "\n",
        "if x < y:                            # Truthy\n",
        "    print('yes')"
      ]
    },
    {
      "cell_type": "code",
      "execution_count": null,
      "id": "3f042b37",
      "metadata": {
        "id": "3f042b37"
      },
      "outputs": [],
      "source": [
        "if y < x:                            # Falsy\n",
        "    print('yes')"
      ]
    },
    {
      "cell_type": "code",
      "execution_count": null,
      "id": "d5670603",
      "metadata": {
        "id": "d5670603"
      },
      "outputs": [],
      "source": [
        "# In Python, any non-zero value is considered \"truthy\" and evaluates to True,\n",
        "# while a zero value is considered \"falsy\" and evaluates to False.\n",
        "\n",
        "if x:                                # Falsy\n",
        "    print('yes')"
      ]
    },
    {
      "cell_type": "code",
      "execution_count": null,
      "id": "16cfe1e4",
      "metadata": {
        "id": "16cfe1e4",
        "outputId": "838f3930-0053-42cb-f8b2-c718e7c9e472"
      },
      "outputs": [
        {
          "name": "stdout",
          "output_type": "stream",
          "text": [
            "yes\n"
          ]
        }
      ],
      "source": [
        "if y:                                # Truthy\n",
        "    print('yes')"
      ]
    },
    {
      "cell_type": "code",
      "execution_count": null,
      "id": "8df44d4b",
      "metadata": {
        "id": "8df44d4b",
        "outputId": "718bc612-bb34-486e-ddfe-4dafd4d7cc99"
      },
      "outputs": [
        {
          "name": "stdout",
          "output_type": "stream",
          "text": [
            "yes\n"
          ]
        }
      ],
      "source": [
        "if x or y:                           # Truthy\n",
        "    print('yes')"
      ]
    },
    {
      "cell_type": "code",
      "execution_count": null,
      "id": "2fb2be97",
      "metadata": {
        "id": "2fb2be97"
      },
      "outputs": [],
      "source": [
        "if x and y:                          # Falsy\n",
        "    print('yes')"
      ]
    },
    {
      "cell_type": "code",
      "execution_count": null,
      "id": "dba616b0",
      "metadata": {
        "id": "dba616b0",
        "outputId": "73556e10-82fe-4fe3-8fa1-b114adffad6a"
      },
      "outputs": [
        {
          "name": "stdout",
          "output_type": "stream",
          "text": [
            "yes\n"
          ]
        }
      ],
      "source": [
        "if 'aul' in 'grault':                # Truthy\n",
        "    print('yes')"
      ]
    },
    {
      "cell_type": "code",
      "execution_count": null,
      "id": "ec1df576",
      "metadata": {
        "id": "ec1df576"
      },
      "outputs": [],
      "source": [
        "if 'quux' in ['foo', 'bar', 'baz']:  # Falsy\n",
        "    print('yes')"
      ]
    },
    {
      "cell_type": "code",
      "execution_count": null,
      "id": "21f53bc9",
      "metadata": {
        "id": "21f53bc9"
      },
      "outputs": [],
      "source": [
        "if x:\n",
        "    print(\"If statement is true\")"
      ]
    },
    {
      "cell_type": "code",
      "execution_count": null,
      "id": "fb1dfd97",
      "metadata": {
        "id": "fb1dfd97",
        "outputId": "d7d355f1-633d-4320-cbb1-b288e6cb4df1"
      },
      "outputs": [
        {
          "name": "stdout",
          "output_type": "stream",
          "text": [
            "After conditional\n"
          ]
        }
      ],
      "source": [
        "if 'foo' in ['bar', 'baz', 'qux']:\n",
        "    print('Expression was true')\n",
        "    print('Executing statement in suite')\n",
        "    print('...')\n",
        "    print('Done.')\n",
        "print('After conditional')"
      ]
    },
    {
      "cell_type": "code",
      "execution_count": null,
      "id": "6238b6f8",
      "metadata": {
        "id": "6238b6f8",
        "outputId": "2babe419-5ef4-4e8f-c98b-b8b6a4379291"
      },
      "outputs": [
        {
          "name": "stdout",
          "output_type": "stream",
          "text": [
            "Outer condition is true\n",
            "Between inner conditions\n",
            "Inner condition 2\n",
            "End of outer condition\n",
            "After outer condition\n"
          ]
        }
      ],
      "source": [
        "if 'foo' in ['foo', 'bar', 'baz']:\n",
        "    print('Outer condition is true')\n",
        "\n",
        "    if 10 > 20:\n",
        "        print('Inner condition 1')\n",
        "\n",
        "    print('Between inner conditions')\n",
        "\n",
        "    if 10 < 20:\n",
        "        print('Inner condition 2')\n",
        "\n",
        "    print('End of outer condition')\n",
        "print('After outer condition')"
      ]
    },
    {
      "cell_type": "code",
      "execution_count": null,
      "id": "9085a5bc",
      "metadata": {
        "id": "9085a5bc",
        "outputId": "e8d39266-1ea0-40b9-88e6-05749d2711cf"
      },
      "outputs": [
        {
          "name": "stdout",
          "output_type": "stream",
          "text": [
            "(first suite)\n",
            "x is small\n"
          ]
        }
      ],
      "source": [
        "x = 20\n",
        "\n",
        "if x < 50:\n",
        "    print('(first suite)')\n",
        "    print('x is small')\n",
        "else:\n",
        "    print('(second suite)')\n",
        "    print('x is large')"
      ]
    },
    {
      "cell_type": "code",
      "execution_count": null,
      "id": "b7315880",
      "metadata": {
        "id": "b7315880",
        "outputId": "f6d8ef3f-4979-482e-ff9c-37d27679979b"
      },
      "outputs": [
        {
          "name": "stdout",
          "output_type": "stream",
          "text": [
            "(second suite)\n",
            "x is large\n"
          ]
        }
      ],
      "source": [
        "x = 120\n",
        "\n",
        "if x < 50:\n",
        "    print('(first suite)')\n",
        "    print('x is small')\n",
        "else:\n",
        "    print('(second suite)')\n",
        "    print('x is large')"
      ]
    },
    {
      "cell_type": "code",
      "execution_count": null,
      "id": "15c7e550",
      "metadata": {
        "id": "15c7e550",
        "outputId": "c0483040-933b-4299-8a6a-ddf48833b709"
      },
      "outputs": [
        {
          "name": "stdout",
          "output_type": "stream",
          "text": [
            "Hello Joe\n"
          ]
        }
      ],
      "source": [
        "name = 'Joe'\n",
        "if name == 'Fred':\n",
        "    print('Hello Fred')\n",
        "elif name == 'Xander':\n",
        "    print('Hello Xander')\n",
        "elif name == 'Joe':\n",
        "    print('Hello Joe')\n",
        "elif name == 'Arnold':\n",
        "    print('Hello Arnold')\n",
        "else:\n",
        "    print(\"I don't know who you are!\")"
      ]
    },
    {
      "cell_type": "code",
      "execution_count": null,
      "id": "53ed655f",
      "metadata": {
        "id": "53ed655f"
      },
      "outputs": [],
      "source": [
        "names = {\n",
        "    'Fred': 'Hello Fred',\n",
        "    'Xander': 'Hello Xander',\n",
        "    'Joe': 'Hello Joe',\n",
        "    'Arnold': 'Hello Arnold'\n",
        "}"
      ]
    },
    {
      "cell_type": "code",
      "execution_count": null,
      "id": "d685eb40",
      "metadata": {
        "id": "d685eb40",
        "outputId": "14019149-40fa-46a9-97e8-6d654edd3ac6"
      },
      "outputs": [
        {
          "data": {
            "text/plain": [
              "'Hello Joe'"
            ]
          },
          "execution_count": 94,
          "metadata": {},
          "output_type": "execute_result"
        }
      ],
      "source": [
        "names.get('Joe')"
      ]
    },
    {
      "cell_type": "code",
      "execution_count": null,
      "id": "1b747ce1",
      "metadata": {
        "id": "1b747ce1",
        "outputId": "7da14b53-a396-4841-a86a-06bfdce67211"
      },
      "outputs": [
        {
          "name": "stdout",
          "output_type": "stream",
          "text": [
            "Hello Joe\n",
            "I don't know who you are!\n"
          ]
        }
      ],
      "source": [
        "print(names.get('Joe', \"I don't know who you are!\"))\n",
        "print(names.get('Rick', \"I don't know who you are!\"))"
      ]
    },
    {
      "cell_type": "code",
      "execution_count": null,
      "id": "f1998cf4",
      "metadata": {
        "id": "f1998cf4",
        "outputId": "dc2268c4-f783-4f35-d5c3-0186672c6090"
      },
      "outputs": [
        {
          "name": "stdout",
          "output_type": "stream",
          "text": [
            "Let's go to the Beach\n"
          ]
        }
      ],
      "source": [
        "raining = False\n",
        "print(\"Let's go to the\", 'Beach' if not raining else 'Library')"
      ]
    },
    {
      "cell_type": "code",
      "execution_count": null,
      "id": "3783db43",
      "metadata": {
        "id": "3783db43",
        "outputId": "7eda855e-09a3-4d23-968f-ef9eaf94ee75"
      },
      "outputs": [
        {
          "name": "stdout",
          "output_type": "stream",
          "text": [
            "Let's go to the Library\n"
          ]
        }
      ],
      "source": [
        "raining = True\n",
        "print(\"Let's go to the\", 'Beach' if not raining else 'Library')"
      ]
    },
    {
      "cell_type": "code",
      "execution_count": null,
      "id": "92960209",
      "metadata": {
        "id": "92960209",
        "outputId": "08f1731c-5c8e-4db4-9593-2f3402f907d6"
      },
      "outputs": [
        {
          "data": {
            "text/plain": [
              "'adult'"
            ]
          },
          "execution_count": 98,
          "metadata": {},
          "output_type": "execute_result"
        }
      ],
      "source": [
        "age = 19\n",
        "s = 'minor' if age <= 18 else 'adult'\n",
        "s"
      ]
    },
    {
      "cell_type": "code",
      "execution_count": null,
      "id": "2d518a45",
      "metadata": {
        "id": "2d518a45",
        "outputId": "494f974c-258f-4b23-9e6a-be55eeb8bb3b"
      },
      "outputs": [
        {
          "data": {
            "text/plain": [
              "'no'"
            ]
          },
          "execution_count": 99,
          "metadata": {},
          "output_type": "execute_result"
        }
      ],
      "source": [
        "'yes' if ('qux' in ['foo', 'bar', 'baz']) else 'no'"
      ]
    },
    {
      "cell_type": "code",
      "execution_count": null,
      "id": "ff4bcadb",
      "metadata": {
        "id": "ff4bcadb",
        "outputId": "9ee00de5-cafc-4424-bf03-a732c0135d55"
      },
      "outputs": [
        {
          "data": {
            "text/plain": [
              "42"
            ]
          },
          "execution_count": 100,
          "metadata": {},
          "output_type": "execute_result"
        }
      ],
      "source": [
        "x = y = 40\n",
        "z = (1 + x) if x > y else (y + 2)\n",
        "z"
      ]
    },
    {
      "cell_type": "code",
      "execution_count": null,
      "id": "d263566f",
      "metadata": {
        "id": "d263566f",
        "outputId": "54399062-a57b-43d3-e8c1-e9325cbdcbef"
      },
      "outputs": [
        {
          "data": {
            "text/plain": [
              "43"
            ]
          },
          "execution_count": 101,
          "metadata": {},
          "output_type": "execute_result"
        }
      ],
      "source": [
        "x = y = 40\n",
        "z = 1 + (x if x > y else y) + 2\n",
        "z"
      ]
    },
    {
      "cell_type": "code",
      "execution_count": null,
      "id": "e1159039",
      "metadata": {
        "id": "e1159039",
        "outputId": "236a5ce9-9199-465e-fada-2c6042b74d94"
      },
      "outputs": [
        {
          "name": "stdout",
          "output_type": "stream",
          "text": [
            "2\n",
            "3\n",
            "5\n",
            "7\n"
          ]
        }
      ],
      "source": [
        "#for loops\n",
        "primes = [2, 3, 5, 7]\n",
        "for prime in primes:\n",
        "    print(prime)"
      ]
    },
    {
      "cell_type": "code",
      "execution_count": null,
      "id": "5739e0f8",
      "metadata": {
        "id": "5739e0f8",
        "outputId": "d10fcc4a-b1e9-4232-a756-0b2e31a98419"
      },
      "outputs": [
        {
          "name": "stdout",
          "output_type": "stream",
          "text": [
            "0\n",
            "1\n",
            "2\n",
            "3\n",
            "4\n"
          ]
        }
      ],
      "source": [
        "for x in range(5):\n",
        "    print(x)"
      ]
    },
    {
      "cell_type": "code",
      "execution_count": null,
      "id": "45c3e279",
      "metadata": {
        "id": "45c3e279",
        "outputId": "1b4948b8-9579-460a-a6a5-3cfa3158b9fc"
      },
      "outputs": [
        {
          "name": "stdout",
          "output_type": "stream",
          "text": [
            "3\n",
            "4\n",
            "5\n"
          ]
        }
      ],
      "source": [
        "for x in range(3, 6):\n",
        "    print(x)"
      ]
    },
    {
      "cell_type": "code",
      "execution_count": null,
      "id": "3d634a0d",
      "metadata": {
        "id": "3d634a0d",
        "outputId": "3af95ce0-6e26-4023-be5d-540aa1a29c8e"
      },
      "outputs": [
        {
          "name": "stdout",
          "output_type": "stream",
          "text": [
            "3\n",
            "5\n",
            "7\n"
          ]
        }
      ],
      "source": [
        "for x in range(3, 8, 2):\n",
        "    print(x)"
      ]
    },
    {
      "cell_type": "code",
      "execution_count": null,
      "id": "a3130406",
      "metadata": {
        "id": "a3130406",
        "outputId": "27767415-0b18-4e1e-9cd7-a8adebd3aec3"
      },
      "outputs": [
        {
          "name": "stdout",
          "output_type": "stream",
          "text": [
            "1\n",
            "2\n",
            "3\n",
            "4\n",
            "5\n"
          ]
        }
      ],
      "source": [
        "#while loops\n",
        "count = 0\n",
        "while count < 5:\n",
        "    count += 1  # This is the same as count = count + 1\n",
        "    print(count)"
      ]
    },
    {
      "cell_type": "code",
      "execution_count": null,
      "id": "1ecf61a6",
      "metadata": {
        "id": "1ecf61a6",
        "outputId": "1ace650b-8db1-490a-a3b5-84a2fd7000d4"
      },
      "outputs": [
        {
          "name": "stdout",
          "output_type": "stream",
          "text": [
            "1\n",
            "2\n",
            "3\n",
            "4\n",
            "5\n"
          ]
        }
      ],
      "source": [
        "count = 0\n",
        "while True:\n",
        "    count += 1\n",
        "    print(count)\n",
        "    if count >=5:\n",
        "        break"
      ]
    },
    {
      "cell_type": "code",
      "execution_count": null,
      "id": "06aea4fd",
      "metadata": {
        "id": "06aea4fd",
        "outputId": "5fd9eae7-50ca-4fe6-879e-ec21f62c11f2"
      },
      "outputs": [
        {
          "name": "stdout",
          "output_type": "stream",
          "text": [
            "1\n",
            "3\n",
            "5\n",
            "7\n",
            "9\n"
          ]
        }
      ],
      "source": [
        "for x in range(10):\n",
        "    if x % 2 == 0:\n",
        "        continue\n",
        "    print(x)"
      ]
    },
    {
      "cell_type": "code",
      "execution_count": null,
      "id": "2bd8918d",
      "metadata": {
        "id": "2bd8918d",
        "outputId": "9055a47b-148c-47e2-fa8d-4475753a30b3"
      },
      "outputs": [
        {
          "name": "stdout",
          "output_type": "stream",
          "text": [
            "0\n",
            "1\n",
            "2\n",
            "3\n",
            "4\n",
            "count value reached 5\n"
          ]
        }
      ],
      "source": [
        "count=0\n",
        "while(count<5):\n",
        "    print(count)\n",
        "    count +=1\n",
        "else:\n",
        "    print(\"count value reached %d\" %(count))"
      ]
    },
    {
      "cell_type": "code",
      "execution_count": null,
      "id": "8b1068ac",
      "metadata": {
        "id": "8b1068ac",
        "outputId": "1b055286-2ac6-4fa3-f91d-3719c2a9751b"
      },
      "outputs": [
        {
          "name": "stdout",
          "output_type": "stream",
          "text": [
            "1\n",
            "2\n",
            "3\n",
            "4\n"
          ]
        }
      ],
      "source": [
        "for i in range(1, 10):\n",
        "    if(i%5==0):\n",
        "        break\n",
        "    print(i)\n",
        "else:\n",
        "    print(\"this is not printed because for loop is \\\n",
        "          terminated because of break but not due to fail in condition\")"
      ]
    },
    {
      "cell_type": "code",
      "execution_count": null,
      "id": "7cedd7ab",
      "metadata": {
        "id": "7cedd7ab"
      },
      "outputs": [],
      "source": [
        "# 1. Decide the number of rows and columns\n",
        "# There is a typical structure to print any pattern,\n",
        "# i.e., the number of rows and columns. We need to use two loops to print any pattern,\n",
        "# i.e., use nested loops.\n",
        "\n",
        "# 2. The outer loop tells us the number of rows, and the inner loop tells\n",
        "# us the column needed to print the pattern.\n",
        "\n",
        "# 3. Accept the number of rows from a user using the input() function to\n",
        "# decide the size of a pattern.\n",
        "\n",
        "# 4. Iterate rows\n",
        "# Next, write an outer loop to Iterate the number of rows using a for loop and range() function.\n",
        "\n",
        "# 5. Iterate columns\n",
        "# Next, write the inner loop or nested loop to handle the number of columns.\n",
        "# The internal loop iteration depends on the values of the outer loop.\n",
        "\n",
        "# 6. Print star or number\n",
        "# Use the print() function in each iteration of nested for loop\n",
        "# to display the symbol or number of a pattern (like a star (asterisk *) or number).\n",
        "\n",
        "# 7. Add new line after each iteration of outer loop\n",
        "# Add a new line using the print() function after each iteration of the\n",
        "# outer loop so that the pattern display appropriately"
      ]
    },
    {
      "cell_type": "code",
      "execution_count": null,
      "id": "4256d415",
      "metadata": {
        "id": "4256d415"
      },
      "outputs": [],
      "source": [
        "# 1\n",
        "# 2 2\n",
        "# 3 3 3\n",
        "# 4 4 4 4\n",
        "# 5 5 5 5 5"
      ]
    },
    {
      "cell_type": "code",
      "execution_count": null,
      "id": "daa04237",
      "metadata": {
        "scrolled": true,
        "id": "daa04237",
        "outputId": "ba1d2735-e81d-48ef-c000-22abc0a8119f"
      },
      "outputs": [
        {
          "name": "stdout",
          "output_type": "stream",
          "text": [
            "\n",
            "1 \n",
            "2 2 \n",
            "3 3 3 \n",
            "4 4 4 4 \n",
            "5 5 5 5 5 \n"
          ]
        }
      ],
      "source": [
        "for i in range(6): #rows\n",
        "    for j in range(i): #cols\n",
        "        print(i, end=' ')\n",
        "    print('')"
      ]
    },
    {
      "cell_type": "code",
      "execution_count": null,
      "id": "0e8e2fe1",
      "metadata": {
        "id": "0e8e2fe1"
      },
      "outputs": [],
      "source": [
        "# 1\n",
        "# 1 2\n",
        "# 1 2 3\n",
        "# 1 2 3 4\n",
        "# 1 2 3 4 5"
      ]
    },
    {
      "cell_type": "code",
      "execution_count": null,
      "id": "5a1f4fd6",
      "metadata": {
        "scrolled": true,
        "id": "5a1f4fd6",
        "outputId": "4dc17acd-5a6c-42b6-d311-ff34125a3f3f"
      },
      "outputs": [
        {
          "name": "stdout",
          "output_type": "stream",
          "text": [
            "1 \n",
            "1 2 \n",
            "1 2 3 \n",
            "1 2 3 4 \n",
            "1 2 3 4 5 \n"
          ]
        }
      ],
      "source": [
        "for i in range(1, 6):\n",
        "    for j in range(1, i + 1):\n",
        "        print(j, end=' ')\n",
        "    print('')"
      ]
    },
    {
      "cell_type": "code",
      "execution_count": null,
      "id": "66d71ce2",
      "metadata": {
        "id": "66d71ce2"
      },
      "outputs": [],
      "source": [
        "# 1\n",
        "# 3 3\n",
        "# 5 5 5\n",
        "# 7 7 7 7\n",
        "# 9 9 9 9 9"
      ]
    },
    {
      "cell_type": "code",
      "execution_count": null,
      "id": "0fb9fb80",
      "metadata": {
        "id": "0fb9fb80",
        "outputId": "58aafef9-18d4-4971-bceb-656179fea67c"
      },
      "outputs": [
        {
          "name": "stdout",
          "output_type": "stream",
          "text": [
            "1 \n",
            "3 3 \n",
            "5 5 5 \n",
            "7 7 7 7 \n",
            "9 9 9 9 9 \n"
          ]
        }
      ],
      "source": [
        "i = 1\n",
        "while i <= 5:\n",
        "    j = 1\n",
        "    while j <= i:\n",
        "        print((i * 2 - 1), end=\" \")\n",
        "        j = j + 1\n",
        "    i = i + 1\n",
        "    print('')"
      ]
    },
    {
      "cell_type": "code",
      "execution_count": null,
      "id": "67ef08bb",
      "metadata": {
        "id": "67ef08bb"
      },
      "outputs": [],
      "source": [
        "# 1\n",
        "# 2 1\n",
        "# 3 2 1\n",
        "# 4 3 2 1\n",
        "# 5 4 3 2 1"
      ]
    },
    {
      "cell_type": "code",
      "execution_count": null,
      "id": "91d53eba",
      "metadata": {
        "scrolled": true,
        "id": "91d53eba",
        "outputId": "f60fad2c-a28f-4c13-f530-d3eb775d540a"
      },
      "outputs": [
        {
          "name": "stdout",
          "output_type": "stream",
          "text": [
            "1 \n",
            "2 1 \n",
            "3 2 1 \n",
            "4 3 2 1 \n",
            "5 4 3 2 1 \n"
          ]
        }
      ],
      "source": [
        "for i in range(1, 6):\n",
        "    for j in range(i, 0, -1):\n",
        "        print(j, end=' ')\n",
        "    print(\"\")"
      ]
    },
    {
      "cell_type": "code",
      "execution_count": null,
      "id": "2f84c5a4",
      "metadata": {
        "id": "2f84c5a4"
      },
      "outputs": [],
      "source": [
        "# 1\n",
        "# 3 2\n",
        "# 6 5 4\n",
        "# 10 9 8 7"
      ]
    },
    {
      "cell_type": "code",
      "execution_count": null,
      "id": "c7048f8a",
      "metadata": {
        "id": "c7048f8a",
        "outputId": "8effdfa3-102a-4133-e541-cd4dd6cf00ae"
      },
      "outputs": [
        {
          "name": "stdout",
          "output_type": "stream",
          "text": [
            "1 \n",
            "3 2 \n",
            "6 5 4 \n",
            "10 9 8 7 \n"
          ]
        }
      ],
      "source": [
        "start = 1\n",
        "stop = 2\n",
        "current_num = stop\n",
        "for row in range(2, 6):\n",
        "    for col in range(start, stop):\n",
        "        current_num -= 1\n",
        "        print(current_num, end=' ')\n",
        "    print(\"\")\n",
        "    start = stop\n",
        "    stop += row\n",
        "    current_num = stop"
      ]
    },
    {
      "cell_type": "code",
      "execution_count": null,
      "id": "845df771",
      "metadata": {
        "id": "845df771"
      },
      "outputs": [],
      "source": [
        "# 1\n",
        "# 1 1\n",
        "# 1 2 1\n",
        "# 1 3 3 1\n",
        "# 1 4 6 4 1\n",
        "# 1 5 10 10 5 1\n",
        "# 1 6 15 20 15 6 1"
      ]
    },
    {
      "cell_type": "code",
      "execution_count": null,
      "id": "f4631b1d",
      "metadata": {
        "id": "f4631b1d",
        "outputId": "4a4f5acb-7ed6-4d62-8954-bf4b028aded7"
      },
      "outputs": [
        {
          "name": "stdout",
          "output_type": "stream",
          "text": [
            "1 \n",
            "1 1 \n",
            "1 2 1 \n",
            "1 3 3 1 \n",
            "1 4 6 4 1 \n",
            "1 5 10 10 5 1 \n",
            "1 6 15 20 15 6 1 \n"
          ]
        }
      ],
      "source": [
        "def print_pascal_triangle(size):\n",
        "    for i in range(0, size):\n",
        "        for j in range(0, i + 1):\n",
        "            print(decide_number(i, j), end=\" \")\n",
        "        print()\n",
        "\n",
        "\n",
        "def decide_number(n, k):\n",
        "    num = 1\n",
        "    if k > n - k:\n",
        "        k = n - k\n",
        "    for i in range(0, k):\n",
        "        num = num * (n - i)\n",
        "        num = num // (i + 1)\n",
        "    return num\n",
        "\n",
        "# set rows\n",
        "rows = 7\n",
        "print_pascal_triangle(rows)"
      ]
    },
    {
      "cell_type": "code",
      "execution_count": null,
      "id": "28aeabde",
      "metadata": {
        "id": "28aeabde"
      },
      "outputs": [],
      "source": [
        "# 1\n",
        "# 2  4\n",
        "# 3  6  9\n",
        "# 4  8  12  16\n",
        "# 5  10  15  20  25\n",
        "# 6  12  18  24  30  36\n",
        "# 7  14  21  28  35  42  49\n",
        "# 8  16  24  32  40  48  56  64"
      ]
    },
    {
      "cell_type": "code",
      "execution_count": null,
      "id": "bcf97baf",
      "metadata": {
        "id": "bcf97baf",
        "outputId": "de32c370-4f39-4ef4-9e32-02641229e989"
      },
      "outputs": [
        {
          "name": "stdout",
          "output_type": "stream",
          "text": [
            "1  \n",
            "2  4  \n",
            "3  6  9  \n",
            "4  8  12  16  \n",
            "5  10  15  20  25  \n",
            "6  12  18  24  30  36  \n",
            "7  14  21  28  35  42  49  \n",
            "8  16  24  32  40  48  56  64  \n"
          ]
        }
      ],
      "source": [
        "rows = 8\n",
        "# rows = int(input(\"Enter the number of rows \"))\n",
        "for i in range(1, rows + 1):\n",
        "    for j in range(1, i + 1):\n",
        "        # multiplication current column and row\n",
        "        square = i * j\n",
        "        print(i * j, end='  ')\n",
        "    print()"
      ]
    },
    {
      "cell_type": "code",
      "execution_count": null,
      "id": "836509f4",
      "metadata": {
        "id": "836509f4"
      },
      "outputs": [],
      "source": [
        "# *\n",
        "# * *\n",
        "# * * *\n",
        "# * * * *\n",
        "# * * * * *"
      ]
    },
    {
      "cell_type": "code",
      "execution_count": null,
      "id": "398b6e6d",
      "metadata": {
        "id": "398b6e6d",
        "outputId": "168e8e23-4fab-4efc-9506-eb63aa9a22fe"
      },
      "outputs": [
        {
          "name": "stdout",
          "output_type": "stream",
          "text": [
            "* \n",
            "* * \n",
            "* * * \n",
            "* * * * \n",
            "* * * * * \n"
          ]
        }
      ],
      "source": [
        "for i in range(0, 5):\n",
        "    for j in range(0, i + 1):\n",
        "        print(\"*\", end=' ')\n",
        "    print(\"\")"
      ]
    },
    {
      "cell_type": "code",
      "execution_count": null,
      "id": "21a3e41f",
      "metadata": {
        "id": "21a3e41f",
        "outputId": "64a6411c-97ad-45d4-e4c3-869b102c8f56"
      },
      "outputs": [
        {
          "name": "stdout",
          "output_type": "stream",
          "text": [
            "* \n",
            "* * \n",
            "* * * \n",
            "* * * * \n",
            "* * * * * \n"
          ]
        }
      ],
      "source": [
        "#Alternative solution\n",
        "rows = 5\n",
        "for j in range(1, rows+1):\n",
        "    print(\"* \" * j)"
      ]
    },
    {
      "cell_type": "code",
      "execution_count": null,
      "id": "af48199b",
      "metadata": {
        "id": "af48199b"
      },
      "outputs": [],
      "source": [
        "# V\n",
        "# V V\n",
        "# V V V\n",
        "# V V V V\n",
        "# V V V V V"
      ]
    },
    {
      "cell_type": "code",
      "execution_count": null,
      "id": "82129461",
      "metadata": {
        "id": "82129461",
        "outputId": "6a5964f9-6497-483a-b693-31b9da31c6e8"
      },
      "outputs": [
        {
          "name": "stdout",
          "output_type": "stream",
          "text": [
            "V \n",
            "V V \n",
            "V V V \n",
            "V V V V \n",
            "V V V V V \n"
          ]
        }
      ],
      "source": [
        "# Same character pattern\n",
        "character = 'V'\n",
        "# convert char to ASCII\n",
        "char_ascii_no = ord(character)\n",
        "for i in range(0, 5):\n",
        "    for j in range(0, i + 1):\n",
        "        # Convert the ASCII value to the character\n",
        "        user_char = chr(char_ascii_no)\n",
        "        print(user_char, end=' ')\n",
        "    print()"
      ]
    },
    {
      "cell_type": "code",
      "execution_count": null,
      "id": "7237c963",
      "metadata": {
        "id": "7237c963"
      },
      "outputs": [],
      "source": [
        "# 1\n",
        "# 2 4\n",
        "# 3 6 9\n",
        "# 4 8 12 16\n",
        "# 5 10 15 20 25\n",
        "# 6 12 18 24 30 36\n",
        "# 7 14 21 28 35 42 49\n",
        "# 8 16 24 32 40 48 56 64\n",
        "# 9 18 27 36 45 54 63 72 81\n",
        "# 10 20 30 40 50 60 70 80 90 100"
      ]
    },
    {
      "cell_type": "code",
      "execution_count": null,
      "id": "74b45309",
      "metadata": {
        "id": "74b45309",
        "outputId": "da8eaad9-9639-4cc2-e82a-0c686c399459"
      },
      "outputs": [
        {
          "name": "stdout",
          "output_type": "stream",
          "text": [
            "1 \n",
            "2 4 \n",
            "3 6 9 \n",
            "4 8 12 16 \n",
            "5 10 15 20 25 \n",
            "6 12 18 24 30 36 \n",
            "7 14 21 28 35 42 49 \n",
            "8 16 24 32 40 48 56 64 \n",
            "9 18 27 36 45 54 63 72 81 \n",
            "10 20 30 40 50 60 70 80 90 100 \n"
          ]
        }
      ],
      "source": [
        "# Pyramid of horizontal tables of numbers\n",
        "rows = 10\n",
        "for i in range(1, rows + 1):\n",
        "    for j in range(1, i + 1):\n",
        "        print(i * j, end=' ')\n",
        "    print()"
      ]
    },
    {
      "cell_type": "code",
      "execution_count": null,
      "id": "1a99a25d",
      "metadata": {
        "id": "1a99a25d"
      },
      "outputs": [],
      "source": [
        "#    1\n",
        "#    1    2    1\n",
        "#    1    2    4    2    1\n",
        "#    1    2    4    8    4    2    1\n",
        "#    1    2    4    8   16    8    4    2    1\n",
        "#    1    2    4    8   16   32   16    8    4    2    1\n",
        "#    1    2    4    8   16   32   64   32   16    8    4    2    1\n",
        "#    1    2    4    8   16   32   64  128   64   32   16    8    4    2    1"
      ]
    },
    {
      "cell_type": "code",
      "execution_count": null,
      "id": "7931b35d",
      "metadata": {
        "id": "7931b35d",
        "outputId": "8bf78e5d-be9c-4f43-f0e6-a88b043024cd"
      },
      "outputs": [
        {
          "name": "stdout",
          "output_type": "stream",
          "text": [
            "   1 \n",
            "   1    2    1 \n",
            "   1    2    4    2    1 \n",
            "   1    2    4    8    4    2    1 \n",
            "   1    2    4    8   16    8    4    2    1 \n",
            "   1    2    4    8   16   32   16    8    4    2    1 \n",
            "   1    2    4    8   16   32   64   32   16    8    4    2    1 \n",
            "   1    2    4    8   16   32   64  128   64   32   16    8    4    2    1 \n"
          ]
        }
      ],
      "source": [
        "rows = 9\n",
        "for i in range(1, rows):\n",
        "    for i in range(0, i, 1):\n",
        "        print(format(2 ** i, \"4d\"), end=' ')\n",
        "    for i in range(-1 + i, -1, -1):\n",
        "        print(format(2 ** i, \"4d\"), end=' ')\n",
        "    print(\"\")"
      ]
    },
    {
      "cell_type": "code",
      "execution_count": null,
      "id": "aee28a41",
      "metadata": {
        "id": "aee28a41"
      },
      "outputs": [],
      "source": [
        "# 1\n",
        "# 2 3 4\n",
        "# 5 6 7 8 9"
      ]
    },
    {
      "cell_type": "code",
      "execution_count": null,
      "id": "180706d2",
      "metadata": {
        "id": "180706d2",
        "outputId": "03d74eeb-5a3c-4d63-e2bc-358b7f9ca9d1"
      },
      "outputs": [
        {
          "name": "stdout",
          "output_type": "stream",
          "text": [
            "1 \n",
            "2 3 4 \n",
            "5 6 7 8 9 \n"
          ]
        }
      ],
      "source": [
        "current_num = 1\n",
        "stop = 2\n",
        "rows = 3\n",
        "\n",
        "for i in range(rows):\n",
        "    for column in range(1, stop):\n",
        "        print(current_num, end=' ')\n",
        "        current_num += 1\n",
        "    print(\"\")\n",
        "    stop += 2"
      ]
    },
    {
      "cell_type": "code",
      "execution_count": null,
      "id": "093e6f8f",
      "metadata": {
        "id": "093e6f8f"
      },
      "outputs": [],
      "source": [
        "# 1\n",
        "# 2 3\n",
        "# 4 5 6\n",
        "# 7 8 9 10"
      ]
    },
    {
      "cell_type": "code",
      "execution_count": null,
      "id": "7ff73d91",
      "metadata": {
        "id": "7ff73d91",
        "outputId": "43047dbb-518e-4701-ecae-e086334ae6c0"
      },
      "outputs": [
        {
          "name": "stdout",
          "output_type": "stream",
          "text": [
            "1 \n",
            "2 3 \n",
            "4 5 6 \n",
            "7 8 9 10 \n"
          ]
        }
      ],
      "source": [
        "current_num = 1\n",
        "rows = 4\n",
        "stop = 2\n",
        "for i in range(rows):\n",
        "    for column in range(1, stop):\n",
        "        print(current_num, end=' ')\n",
        "        current_num += 1\n",
        "    print(\"\")\n",
        "    stop += 1"
      ]
    },
    {
      "cell_type": "code",
      "execution_count": null,
      "id": "7e90f0c5",
      "metadata": {
        "id": "7e90f0c5"
      },
      "outputs": [],
      "source": [
        "# A\n",
        "# B C\n",
        "# D E F\n",
        "# G H I J\n",
        "# K L M N O\n",
        "# P Q R S T U\n",
        "# V W X Y Z [ \\"
      ]
    },
    {
      "cell_type": "code",
      "execution_count": null,
      "id": "5fbeb720",
      "metadata": {
        "id": "5fbeb720",
        "outputId": "3149b733-9013-4b7e-8c43-8ee865fd159f"
      },
      "outputs": [
        {
          "name": "stdout",
          "output_type": "stream",
          "text": [
            "A  \n",
            "B C  \n",
            "D E F  \n",
            "G H I J  \n",
            "K L M N O  \n",
            "P Q R S T U  \n",
            "V W X Y Z [ \\  \n"
          ]
        }
      ],
      "source": [
        "# ASCII number of 'A'\n",
        "ascii_number = 65\n",
        "rows = 7\n",
        "for i in range(0, rows):\n",
        "    for j in range(0, i + 1):\n",
        "        character = chr(ascii_number)\n",
        "        print(character, end=' ')\n",
        "        ascii_number += 1\n",
        "    print(\" \")"
      ]
    },
    {
      "cell_type": "code",
      "execution_count": null,
      "id": "5737c76f",
      "metadata": {
        "id": "5737c76f"
      },
      "outputs": [],
      "source": [
        "# P\n",
        "# Py\n",
        "# Pyt\n",
        "# Pyth\n",
        "# Pytho\n",
        "# Python"
      ]
    },
    {
      "cell_type": "code",
      "execution_count": null,
      "id": "7b365c6e",
      "metadata": {
        "id": "7b365c6e",
        "outputId": "0a6d4eda-9a86-4342-b5d8-8624f9449d5b"
      },
      "outputs": [
        {
          "name": "stdout",
          "output_type": "stream",
          "text": [
            "P\n",
            "Py\n",
            "Pyt\n",
            "Pyth\n",
            "Pytho\n",
            "Python\n"
          ]
        }
      ],
      "source": [
        "word = \"Python\"\n",
        "x = \"\"\n",
        "for i in word:\n",
        "    x += i\n",
        "    print(x)"
      ]
    },
    {
      "cell_type": "code",
      "execution_count": null,
      "id": "c21bf4b1",
      "metadata": {
        "id": "c21bf4b1"
      },
      "outputs": [],
      "source": [
        "# 1 1 1 1 1\n",
        "# 2 2 2 2\n",
        "# 3 3 3\n",
        "# 4 4\n",
        "# 5"
      ]
    },
    {
      "cell_type": "code",
      "execution_count": null,
      "id": "8705b7aa",
      "metadata": {
        "id": "8705b7aa",
        "outputId": "c710c1d5-c165-4ea6-bff0-019e29e13454"
      },
      "outputs": [
        {
          "name": "stdout",
          "output_type": "stream",
          "text": [
            "1 1 1 1 1 \n",
            "2 2 2 2 \n",
            "3 3 3 \n",
            "4 4 \n",
            "5 \n"
          ]
        }
      ],
      "source": [
        "rows = 5\n",
        "b = 0\n",
        "\n",
        "# reverse for loop from 5 to 0\n",
        "for i in range(rows, 0, -1):\n",
        "    b = b + 1\n",
        "    for j in range(1, i + 1):\n",
        "        print(b, end=' ')\n",
        "    print('')"
      ]
    },
    {
      "cell_type": "code",
      "execution_count": null,
      "id": "894f947c",
      "metadata": {
        "id": "894f947c"
      },
      "outputs": [],
      "source": [
        "# 5 5 5 5 5\n",
        "# 5 5 5 5\n",
        "# 5 5 5\n",
        "# 5 5\n",
        "# 5"
      ]
    },
    {
      "cell_type": "code",
      "execution_count": null,
      "id": "fa83db05",
      "metadata": {
        "id": "fa83db05",
        "outputId": "586a8541-2ce5-4633-d760-745f79dcb0f9"
      },
      "outputs": [
        {
          "name": "stdout",
          "output_type": "stream",
          "text": [
            "5 5 5 5 5 \n",
            "5 5 5 5 \n",
            "5 5 5 \n",
            "5 5 \n",
            "5 \n"
          ]
        }
      ],
      "source": [
        "rows = 5\n",
        "for i in range(rows, 0 , -1):\n",
        "    b = 5\n",
        "    for j in range(1, i + 1):\n",
        "        print(b, end = ' ')\n",
        "    print('')"
      ]
    },
    {
      "cell_type": "code",
      "execution_count": null,
      "id": "3ce08602",
      "metadata": {
        "id": "3ce08602",
        "outputId": "8afec9b3-8fba-40cc-9f79-f21600bdc260"
      },
      "outputs": [
        {
          "name": "stdout",
          "output_type": "stream",
          "text": [
            "5 5 5 5 5 \n",
            "5 5 5 5 \n",
            "5 5 5 \n",
            "5 5 \n",
            "5 \n"
          ]
        }
      ],
      "source": [
        "rows = 5\n",
        "num = rows\n",
        "for i in range(rows, 0, -1):\n",
        "    for j in range(0, i):\n",
        "        print(num, end = ' ')\n",
        "    print('')"
      ]
    },
    {
      "cell_type": "code",
      "execution_count": null,
      "id": "271734e4",
      "metadata": {
        "id": "271734e4"
      },
      "outputs": [],
      "source": [
        "# 0 1 2 3 4 5\n",
        "# 0 1 2 3 4\n",
        "# 0 1 2 3\n",
        "# 0 1 2\n",
        "# 0 1"
      ]
    },
    {
      "cell_type": "code",
      "execution_count": null,
      "id": "52ea7947",
      "metadata": {
        "id": "52ea7947",
        "outputId": "0b41c250-499a-4239-e733-0a606a8304a5"
      },
      "outputs": [
        {
          "name": "stdout",
          "output_type": "stream",
          "text": [
            "0 1 2 3 4 5 \r\n",
            "0 1 2 3 4 \r\n",
            "0 1 2 3 \r\n",
            "0 1 2 \r\n",
            "0 1 \r\n"
          ]
        }
      ],
      "source": [
        "rows = 5\n",
        "for i in range(rows, 0, -1):\n",
        "    for j in range(0, i + 1):\n",
        "        print(j, end=' ')\n",
        "    print(\"\\r\")"
      ]
    },
    {
      "cell_type": "code",
      "execution_count": null,
      "id": "bb3b6289",
      "metadata": {
        "id": "bb3b6289"
      },
      "outputs": [],
      "source": [
        "# 5 5 5 5 5\n",
        "# 4 4 4 4\n",
        "# 3 3 3\n",
        "# 2 2\n",
        "# 1"
      ]
    },
    {
      "cell_type": "code",
      "execution_count": null,
      "id": "7ff04845",
      "metadata": {
        "id": "7ff04845",
        "outputId": "531309a6-b390-4624-97b4-5ef02a11be0c"
      },
      "outputs": [
        {
          "name": "stdout",
          "output_type": "stream",
          "text": [
            "5 5 5 5 5 \n",
            "4 4 4 4 \n",
            "3 3 3 \n",
            "2 2 \n",
            "1 \n"
          ]
        }
      ],
      "source": [
        "rows = 5\n",
        "for i in range(rows, 0, -1):\n",
        "    num = i\n",
        "    for j in range(0, i):\n",
        "        print(num, end=' ')\n",
        "    print(\"\")"
      ]
    },
    {
      "cell_type": "code",
      "execution_count": null,
      "id": "71b72f81",
      "metadata": {
        "id": "71b72f81"
      },
      "outputs": [],
      "source": [
        "# 5 4 3 2 1\n",
        "# 4 3 2 1\n",
        "# 3 2 1\n",
        "# 2 1\n",
        "# 1"
      ]
    },
    {
      "cell_type": "code",
      "execution_count": null,
      "id": "9ffec756",
      "metadata": {
        "id": "9ffec756",
        "outputId": "b2a7ab15-210e-474d-bcf6-f661b8fd4ad9"
      },
      "outputs": [
        {
          "name": "stdout",
          "output_type": "stream",
          "text": [
            "5 4 3 2 1 \n",
            "4 3 2 1 \n",
            "3 2 1 \n",
            "2 1 \n",
            "1 \n",
            "\n"
          ]
        }
      ],
      "source": [
        "rows = 5\n",
        "for i in range(0, rows + 1):\n",
        "    for j in range(rows - i, 0, -1):\n",
        "        print(j, end=' ')\n",
        "    print()"
      ]
    },
    {
      "cell_type": "code",
      "execution_count": null,
      "id": "47897dae",
      "metadata": {
        "id": "47897dae"
      },
      "outputs": [],
      "source": [
        "# * * * * *\n",
        "# * * * *\n",
        "# * * *\n",
        "# * *\n",
        "# *"
      ]
    },
    {
      "cell_type": "code",
      "execution_count": null,
      "id": "9c4d9766",
      "metadata": {
        "id": "9c4d9766",
        "outputId": "22c82028-3ad8-4075-9867-1c7c509aef20"
      },
      "outputs": [
        {
          "name": "stdout",
          "output_type": "stream",
          "text": [
            "* * * * *  \n",
            "* * * *  \n",
            "* * *  \n",
            "* *  \n",
            "*  \n",
            " \n"
          ]
        }
      ],
      "source": [
        "rows = 5\n",
        "for i in range(rows + 1, 0, -1):\n",
        "    # nested reverse loop\n",
        "    for j in range(0, i - 1):\n",
        "        # display star\n",
        "        print(\"*\", end=' ')\n",
        "    print(\" \")"
      ]
    },
    {
      "cell_type": "code",
      "execution_count": null,
      "id": "59b2672b",
      "metadata": {
        "id": "59b2672b"
      },
      "outputs": [],
      "source": [
        "#           1\n",
        "#         1 2\n",
        "#       1 2 3\n",
        "#     1 2 3 4\n",
        "#   1 2 3 4 5"
      ]
    },
    {
      "cell_type": "code",
      "execution_count": null,
      "id": "233273ac",
      "metadata": {
        "id": "233273ac",
        "outputId": "3e188386-5708-4b2d-802c-6450284f08d3"
      },
      "outputs": [
        {
          "name": "stdout",
          "output_type": "stream",
          "text": [
            "          1 \n",
            "        1 2 \n",
            "      1 2 3 \n",
            "    1 2 3 4 \n",
            "  1 2 3 4 5 \n"
          ]
        }
      ],
      "source": [
        "rows = 6\n",
        "for i in range(1, rows):\n",
        "    num = 1\n",
        "    for j in range(rows, 0, -1):\n",
        "        if j > i:\n",
        "            print(\" \", end=' ')\n",
        "        else:\n",
        "            print(num, end=' ')\n",
        "            num += 1\n",
        "    print(\"\")"
      ]
    },
    {
      "cell_type": "code",
      "execution_count": null,
      "id": "a10d8653",
      "metadata": {
        "id": "a10d8653",
        "outputId": "aff0051f-1839-42fd-aa58-a0f8962be607"
      },
      "outputs": [
        {
          "name": "stdout",
          "output_type": "stream",
          "text": [
            "7 7 7 7 7 7 \n",
            "  6 6 6 6 6 \n",
            "    5 5 5 5 \n",
            "      4 4 4 \n",
            "        3 3 \n",
            "          2 \n"
          ]
        }
      ],
      "source": [
        "for i in range(6, 0, -1):\n",
        "    for j in range(6, 0, -1):\n",
        "        if j > i:\n",
        "            print(' ', end = \" \")\n",
        "        else:\n",
        "            print(i + 1, end = ' ')\n",
        "    print('')"
      ]
    },
    {
      "cell_type": "code",
      "execution_count": null,
      "id": "103c73be",
      "metadata": {
        "id": "103c73be"
      },
      "outputs": [],
      "source": [
        "#         *\n",
        "#       * *\n",
        "#     * * *\n",
        "#   * * * *\n",
        "# * * * * *"
      ]
    },
    {
      "cell_type": "code",
      "execution_count": null,
      "id": "1bbdb61d",
      "metadata": {
        "id": "1bbdb61d",
        "outputId": "70dc6e7c-1736-4e65-8ca8-70aa9ec76c24"
      },
      "outputs": [
        {
          "name": "stdout",
          "output_type": "stream",
          "text": [
            "        * \n",
            "      * * \n",
            "    * * * \n",
            "  * * * * \n",
            "* * * * * \n"
          ]
        }
      ],
      "source": [
        "rows = 5\n",
        "k = 2 * rows - 2\n",
        "for i in range(0, rows):\n",
        "    # process each column\n",
        "    for j in range(0, k):\n",
        "        # print space in pyramid\n",
        "        print(end=\" \")\n",
        "    k = k - 2\n",
        "    for j in range(0, i + 1):\n",
        "        # display star\n",
        "        print(\"* \", end=\"\")\n",
        "    print(\"\")"
      ]
    },
    {
      "cell_type": "code",
      "execution_count": null,
      "id": "99495cf3",
      "metadata": {
        "id": "99495cf3"
      },
      "outputs": [],
      "source": [
        "# 1 2 3 4 5\n",
        "# 2 2 3 4 5\n",
        "# 3 3 3 4 5\n",
        "# 4 4 4 4 5\n",
        "# 5 5 5 5 5"
      ]
    },
    {
      "cell_type": "code",
      "execution_count": null,
      "id": "b165e38a",
      "metadata": {
        "id": "b165e38a",
        "outputId": "a82fdb43-7a12-4a24-a58d-a500ec8c4f80"
      },
      "outputs": [
        {
          "name": "stdout",
          "output_type": "stream",
          "text": [
            "1 2 3 4 5 \n",
            "2 2 3 4 5 \n",
            "3 3 3 4 5 \n",
            "4 4 4 4 5 \n",
            "5 5 5 5 5 \n"
          ]
        }
      ],
      "source": [
        "rows = 5\n",
        "for i in range(1, rows + 1):\n",
        "    for j in range(1, rows + 1):\n",
        "        if j <= i:\n",
        "            print(i, end=' ')\n",
        "        else:\n",
        "            print(j, end=' ')\n",
        "    print()"
      ]
    },
    {
      "cell_type": "code",
      "execution_count": null,
      "id": "8795148e",
      "metadata": {
        "id": "8795148e"
      },
      "outputs": [],
      "source": [
        "#         * * * * * *\n",
        "#          * * * * *\n",
        "#           * * * *\n",
        "#            * * *\n",
        "#             * *\n",
        "#              *"
      ]
    },
    {
      "cell_type": "code",
      "execution_count": null,
      "id": "496e9d24",
      "metadata": {
        "id": "496e9d24",
        "outputId": "e3d17cce-b718-4258-a82a-0dae4f074e3d"
      },
      "outputs": [
        {
          "name": "stdout",
          "output_type": "stream",
          "text": [
            "        * * * * * * \n",
            "         * * * * * \n",
            "          * * * * \n",
            "           * * * \n",
            "            * * \n",
            "             * \n"
          ]
        }
      ],
      "source": [
        "rows = 5\n",
        "k = 2 * rows - 2\n",
        "for i in range(rows, -1, -1):\n",
        "    for j in range(k, 0, -1):\n",
        "        print(end=\" \")\n",
        "    k = k + 1\n",
        "    for j in range(0, i + 1):\n",
        "        print(\"*\", end=\" \")\n",
        "    print(\"\")"
      ]
    },
    {
      "cell_type": "code",
      "execution_count": null,
      "id": "593eda37",
      "metadata": {
        "id": "593eda37"
      },
      "outputs": [],
      "source": [
        "#             *\n",
        "#            *  *\n",
        "#           *  *  *\n",
        "#          *  *  *  *\n",
        "#         *  *  *  *  *\n",
        "#        *  *  *  *  *  *\n",
        "#       *  *  *  *  *  *  *"
      ]
    },
    {
      "cell_type": "code",
      "execution_count": null,
      "id": "33f172be",
      "metadata": {
        "id": "33f172be",
        "outputId": "15276b06-df36-4775-e147-120393cd7262"
      },
      "outputs": [
        {
          "name": "stdout",
          "output_type": "stream",
          "text": [
            "Print equilateral triangle Pyramid using asterisk symbol \n",
            "            *   \n",
            "           *  *   \n",
            "          *  *  *   \n",
            "         *  *  *  *   \n",
            "        *  *  *  *  *   \n",
            "       *  *  *  *  *  *   \n",
            "      *  *  *  *  *  *  *   \n"
          ]
        }
      ],
      "source": [
        "print(\"Print equilateral triangle Pyramid using asterisk symbol \")\n",
        "# printing full Triangle pyramid using stars\n",
        "size = 7\n",
        "m = (2 * size) - 2\n",
        "for i in range(0, size):\n",
        "    for j in range(0, m):\n",
        "        print(end=\" \")\n",
        "    # decrementing m after each loop\n",
        "    m = m - 1\n",
        "    for j in range(0, i + 1):\n",
        "        print(\"* \", end=' ')\n",
        "    print(\" \")"
      ]
    },
    {
      "cell_type": "code",
      "execution_count": null,
      "id": "31c24526",
      "metadata": {
        "id": "31c24526"
      },
      "outputs": [],
      "source": [
        "# *\n",
        "# * *\n",
        "# * * *\n",
        "# * * * *\n",
        "# * * * * *\n",
        "# * * * * * *\n",
        "\n",
        "# * * * * * *\n",
        "# * * * * *\n",
        "# * * * *\n",
        "# * * *\n",
        "# * *\n",
        "# *"
      ]
    },
    {
      "cell_type": "code",
      "execution_count": null,
      "id": "d6655ffa",
      "metadata": {
        "id": "d6655ffa",
        "outputId": "f77a6e9e-1c38-478f-a762-5213bac78d98"
      },
      "outputs": [
        {
          "name": "stdout",
          "output_type": "stream",
          "text": [
            "*  \n",
            "* *  \n",
            "* * *  \n",
            "* * * *  \n",
            "* * * * *  \n",
            "* * * * * *  \n",
            " \n",
            "* * * * * *  \n",
            "* * * * *  \n",
            "* * * *  \n",
            "* * *  \n",
            "* *  \n",
            "*  \n",
            " \n"
          ]
        }
      ],
      "source": [
        "rows = 6\n",
        "for i in range(0, rows):\n",
        "    for j in range(0, i + 1):\n",
        "        print(\"*\", end=' ')\n",
        "    print(\" \")\n",
        "\n",
        "print(\" \")\n",
        "\n",
        "for i in range(rows + 1, 0, -1):\n",
        "    for j in range(0, i - 1):\n",
        "        print(\"*\", end=' ')\n",
        "    print(\" \")"
      ]
    },
    {
      "cell_type": "code",
      "execution_count": null,
      "id": "8bbc6e13",
      "metadata": {
        "id": "8bbc6e13"
      },
      "outputs": [],
      "source": [
        "# *\n",
        "# * *\n",
        "# * * *\n",
        "# * * * *\n",
        "# * * * * *\n",
        "# * * * *\n",
        "# * * *\n",
        "# * *\n",
        "# *"
      ]
    },
    {
      "cell_type": "code",
      "execution_count": null,
      "id": "88ae24c5",
      "metadata": {
        "id": "88ae24c5",
        "outputId": "4061e1c7-9c9d-4cd3-ec95-505176146437"
      },
      "outputs": [
        {
          "name": "stdout",
          "output_type": "stream",
          "text": [
            "* \r\n",
            "* * \r\n",
            "* * * \r\n",
            "* * * * \r\n",
            "* * * * * \r\n",
            "* * * * \r\n",
            "* * * \r\n",
            "* * \r\n",
            "* \r\n",
            "\r\n"
          ]
        }
      ],
      "source": [
        "rows = 5\n",
        "for i in range(0, rows):\n",
        "    for j in range(0, i + 1):\n",
        "        print(\"*\", end=' ')\n",
        "    print(\"\\r\")\n",
        "\n",
        "for i in range(rows, 0, -1):\n",
        "    for j in range(0, i - 1):\n",
        "        print(\"*\", end=' ')\n",
        "    print(\"\\r\")"
      ]
    },
    {
      "cell_type": "code",
      "execution_count": null,
      "id": "5a823b0f",
      "metadata": {
        "id": "5a823b0f"
      },
      "outputs": [],
      "source": [
        "#         *\n",
        "#       * *\n",
        "#     * * *\n",
        "#   * * * *\n",
        "# * * * * *\n",
        "#   * * * *\n",
        "#     * * *\n",
        "#       * *\n",
        "#         *"
      ]
    },
    {
      "cell_type": "code",
      "execution_count": null,
      "id": "59a05463",
      "metadata": {
        "id": "59a05463",
        "outputId": "f50353c9-df41-42a5-f98f-f5a11815116b"
      },
      "outputs": [
        {
          "name": "stdout",
          "output_type": "stream",
          "text": [
            "        * \n",
            "      * * \n",
            "    * * * \n",
            "  * * * * \n",
            "* * * * * \n",
            "  * * * * \n",
            "    * * * \n",
            "      * * \n",
            "        * \n",
            "          \n"
          ]
        }
      ],
      "source": [
        "rows = 5\n",
        "i = 1\n",
        "while i <= rows:\n",
        "    j = i\n",
        "    while j < rows:\n",
        "        # display space\n",
        "        print(' ', end=' ')\n",
        "        j += 1\n",
        "    k = 1\n",
        "    while k <= i:\n",
        "        print('*', end=' ')\n",
        "        k += 1\n",
        "    print()\n",
        "    i += 1\n",
        "\n",
        "i = rows\n",
        "while i >= 1:\n",
        "    j = i\n",
        "    while j <= rows:\n",
        "        print(' ', end=' ')\n",
        "        j += 1\n",
        "    k = 1\n",
        "    while k < i:\n",
        "        print('*', end=' ')\n",
        "        k += 1\n",
        "    print('')\n",
        "    i -= 1"
      ]
    },
    {
      "cell_type": "code",
      "execution_count": null,
      "id": "16a2c754",
      "metadata": {
        "id": "16a2c754"
      },
      "outputs": [],
      "source": [
        "# * * * * *\n",
        "#  * * * *\n",
        "#   * * *\n",
        "#    * *\n",
        "#     *\n",
        "#     *\n",
        "#    * *\n",
        "#   * * *\n",
        "#  * * * *\n",
        "# * * * * *"
      ]
    },
    {
      "cell_type": "code",
      "execution_count": null,
      "id": "28518031",
      "metadata": {
        "id": "28518031",
        "outputId": "c043b3ed-7096-4c6d-b1c0-ac9cc8bf8a32"
      },
      "outputs": [
        {
          "name": "stdout",
          "output_type": "stream",
          "text": [
            "* * * * * \n",
            " * * * * \n",
            "  * * * \n",
            "   * * \n",
            "    * \n",
            "    * \n",
            "   * * \n",
            "  * * * \n",
            " * * * * \n",
            "* * * * * \n"
          ]
        }
      ],
      "source": [
        "rows = 5\n",
        "i = 0\n",
        "while i <= rows - 1:\n",
        "    j = 0\n",
        "    while j < i:\n",
        "        # display space\n",
        "        print('', end=' ')\n",
        "        j += 1\n",
        "    k = i\n",
        "    while k <= rows - 1:\n",
        "        print('*', end=' ')\n",
        "        k += 1\n",
        "    print()\n",
        "    i += 1\n",
        "\n",
        "i = rows - 1\n",
        "while i >= 0:\n",
        "    j = 0\n",
        "    while j < i:\n",
        "        print('', end=' ')\n",
        "        j += 1\n",
        "    k = i\n",
        "    while k <= rows - 1:\n",
        "        print('*', end=' ')\n",
        "        k += 1\n",
        "    print('')\n",
        "    i -= 1"
      ]
    },
    {
      "cell_type": "code",
      "execution_count": null,
      "id": "6ba00eac",
      "metadata": {
        "id": "6ba00eac"
      },
      "outputs": [],
      "source": [
        "#         *\n",
        "#        * *\n",
        "#       * * *\n",
        "#      * * * *\n",
        "#     * * * * *\n",
        "#    * * * * * *\n",
        "#     * * * * *\n",
        "#      * * * *\n",
        "#       * * *\n",
        "#        * *\n",
        "#         *"
      ]
    },
    {
      "cell_type": "code",
      "execution_count": null,
      "id": "3319ca7e",
      "metadata": {
        "id": "3319ca7e",
        "outputId": "a91a69e9-498f-4c2a-e36f-3afedc7d5be7"
      },
      "outputs": [
        {
          "name": "stdout",
          "output_type": "stream",
          "text": [
            "        * \n",
            "       * * \n",
            "      * * * \n",
            "     * * * * \n",
            "    * * * * * \n",
            "   * * * * * * \n",
            "    * * * * * \n",
            "     * * * * \n",
            "      * * * \n",
            "       * * \n",
            "        * \n"
          ]
        }
      ],
      "source": [
        "rows = 5\n",
        "k = 2 * rows - 2\n",
        "for i in range(0, rows):\n",
        "    for j in range(0, k):\n",
        "        print(end=\" \")\n",
        "    k = k - 1\n",
        "    for j in range(0, i + 1):\n",
        "        print(\"* \", end=\"\")\n",
        "    print(\"\")\n",
        "\n",
        "k = rows - 2\n",
        "\n",
        "for i in range(rows, -1, -1):\n",
        "    for j in range(k, 0, -1):\n",
        "        print(end=\" \")\n",
        "    k = k + 1\n",
        "    for j in range(0, i + 1):\n",
        "        print(\"* \", end=\"\")\n",
        "    print(\"\")"
      ]
    },
    {
      "cell_type": "code",
      "execution_count": null,
      "id": "dd41105f",
      "metadata": {
        "id": "dd41105f"
      },
      "outputs": [],
      "source": [
        "#             A\n",
        "#            B C\n",
        "#           D E F\n",
        "#          G H I J\n",
        "#         K L M N O\n",
        "#        P Q R S T U\n",
        "#       V W X Y Z [ \\"
      ]
    },
    {
      "cell_type": "code",
      "execution_count": null,
      "id": "6eebca6f",
      "metadata": {
        "id": "6eebca6f",
        "outputId": "2bcea4a5-7ada-41be-e4a1-3108fbab994e"
      },
      "outputs": [
        {
          "name": "stdout",
          "output_type": "stream",
          "text": [
            "Print equilateral triangle Pyramid with characters \n",
            "            A  \n",
            "           B C  \n",
            "          D E F  \n",
            "         G H I J  \n",
            "        K L M N O  \n",
            "       P Q R S T U  \n",
            "      V W X Y Z [ \\  \n"
          ]
        }
      ],
      "source": [
        "print(\"Print equilateral triangle Pyramid with characters \")\n",
        "size = 7\n",
        "asciiNumber = 65\n",
        "m = (2 * size) - 2\n",
        "for i in range(0, size):\n",
        "    for j in range(0, m):\n",
        "        print(end=\" \")\n",
        "    m = m - 1\n",
        "    for j in range(0, i + 1):\n",
        "        character = chr(asciiNumber)\n",
        "        print(character, end=' ')\n",
        "        asciiNumber += 1\n",
        "    print(\" \")"
      ]
    },
    {
      "cell_type": "code",
      "execution_count": null,
      "id": "2ffcb0f4",
      "metadata": {
        "id": "2ffcb0f4"
      },
      "outputs": [],
      "source": [
        "f = open(\"demofile.txt\", 'r')"
      ]
    },
    {
      "cell_type": "code",
      "execution_count": null,
      "id": "b97276a4",
      "metadata": {
        "id": "b97276a4",
        "outputId": "54732797-0d0c-42a0-8d65-cf8258b24c92"
      },
      "outputs": [
        {
          "name": "stdout",
          "output_type": "stream",
          "text": [
            "Hi this is demo file\n",
            "just created to view in Python\n"
          ]
        }
      ],
      "source": [
        "print(f.read())"
      ]
    },
    {
      "cell_type": "code",
      "execution_count": null,
      "id": "c9bb0412",
      "metadata": {
        "id": "c9bb0412"
      },
      "outputs": [],
      "source": [
        "f.close() #good practice to close it always"
      ]
    },
    {
      "cell_type": "code",
      "execution_count": null,
      "id": "4b2ab62a",
      "metadata": {
        "id": "4b2ab62a"
      },
      "outputs": [],
      "source": [
        "#lambda function\n",
        "\n",
        "# A lambda function is a small anonymous function, it can take\n",
        "# any number of arguments, but can only have one expression."
      ]
    },
    {
      "cell_type": "code",
      "execution_count": null,
      "id": "a991d4ce",
      "metadata": {
        "id": "a991d4ce"
      },
      "outputs": [],
      "source": [
        "x = lambda a: a + 5"
      ]
    },
    {
      "cell_type": "code",
      "execution_count": null,
      "id": "1221c51b",
      "metadata": {
        "id": "1221c51b",
        "outputId": "d4009524-73ae-44a7-ff13-ba5e2cb1655e"
      },
      "outputs": [
        {
          "name": "stdout",
          "output_type": "stream",
          "text": [
            "7\n"
          ]
        }
      ],
      "source": [
        "print(x(2))"
      ]
    },
    {
      "cell_type": "code",
      "execution_count": null,
      "id": "fa23723b",
      "metadata": {
        "id": "fa23723b"
      },
      "outputs": [],
      "source": [
        "x = lambda a, b : (a * b)"
      ]
    },
    {
      "cell_type": "code",
      "execution_count": null,
      "id": "2909e6e7",
      "metadata": {
        "id": "2909e6e7",
        "outputId": "2b8283bd-081a-4884-f949-e7f390c24969"
      },
      "outputs": [
        {
          "name": "stdout",
          "output_type": "stream",
          "text": [
            "15\n"
          ]
        }
      ],
      "source": [
        "print(x(3, 5))"
      ]
    },
    {
      "cell_type": "code",
      "execution_count": null,
      "id": "4c08423a",
      "metadata": {
        "id": "4c08423a"
      },
      "outputs": [],
      "source": [
        "def myfn(x):\n",
        "    return lambda y : y * x"
      ]
    },
    {
      "cell_type": "code",
      "execution_count": null,
      "id": "954f9506",
      "metadata": {
        "id": "954f9506",
        "outputId": "32c3b11f-7d95-4655-f9fa-dfef41f76cc2"
      },
      "outputs": [
        {
          "data": {
            "text/plain": [
              "20"
            ]
          },
          "execution_count": 199,
          "metadata": {},
          "output_type": "execute_result"
        }
      ],
      "source": [
        "z = myfn(10)\n",
        "z(2)"
      ]
    },
    {
      "cell_type": "code",
      "execution_count": null,
      "id": "b7e579d1",
      "metadata": {
        "id": "b7e579d1",
        "outputId": "5a70b630-f630-4df6-8da2-b349b72545b5"
      },
      "outputs": [
        {
          "name": "stdout",
          "output_type": "stream",
          "text": [
            "[5, 7, 9]\n"
          ]
        }
      ],
      "source": [
        "#map function\n",
        "\n",
        "# map function returns a list as output\n",
        "\n",
        "numbers1 = [1, 2, 3]\n",
        "numbers2 = [4, 5, 6]\n",
        "\n",
        "result = map(lambda x, y: x + y, numbers1, numbers2)\n",
        "print(list(result))"
      ]
    },
    {
      "cell_type": "code",
      "execution_count": null,
      "id": "51932367",
      "metadata": {
        "id": "51932367",
        "outputId": "5a773d35-98d8-4d32-d331-449b05d73472"
      },
      "outputs": [
        {
          "data": {
            "text/plain": [
              "[['s', 'a', 't'], ['b', 'a', 't'], ['c', 'a', 't'], ['m', 'a', 't']]"
            ]
          },
          "execution_count": 206,
          "metadata": {},
          "output_type": "execute_result"
        }
      ],
      "source": [
        "m = ['sat', 'bat', 'cat', 'mat']\n",
        "list(map(list, m))"
      ]
    },
    {
      "cell_type": "code",
      "execution_count": null,
      "id": "d865172e",
      "metadata": {
        "id": "d865172e"
      },
      "outputs": [],
      "source": [
        "#syntax -> map(function, iterables)"
      ]
    },
    {
      "cell_type": "code",
      "execution_count": null,
      "id": "c667a0cf",
      "metadata": {
        "id": "c667a0cf",
        "outputId": "0277b649-8c67-4e64-b722-f03a249b42f4"
      },
      "outputs": [
        {
          "name": "stdout",
          "output_type": "stream",
          "text": [
            "<class 'zip'>\n",
            "[(1, 'a', 4.0), (2, 'b', 5.0), (3, 'c', 6.0)]\n"
          ]
        }
      ],
      "source": [
        "#zip function\n",
        "\n",
        "integers = [1, 2, 3]\n",
        "letters = ['a', 'b', 'c']\n",
        "floats = [4.0, 5.0, 6.0]\n",
        "\n",
        "zipped = zip(integers, letters, floats)\n",
        "\n",
        "print(type(zipped))\n",
        "print(list(zipped))"
      ]
    },
    {
      "cell_type": "code",
      "execution_count": null,
      "id": "a2a9247d",
      "metadata": {
        "id": "a2a9247d",
        "outputId": "b795e5b0-ffb4-41a5-e961-94df170a01f7"
      },
      "outputs": [
        {
          "name": "stdout",
          "output_type": "stream",
          "text": [
            "Letter: a, Number: 0\n",
            "Letter: b, Number: 1\n",
            "Letter: c, Number: 2\n"
          ]
        }
      ],
      "source": [
        "letters = ['a', 'b', 'c']\n",
        "numbers = [0, 1, 2]\n",
        "for i, j in zip(letters, numbers):\n",
        "    print(f'Letter: {i}, Number: {j}')"
      ]
    },
    {
      "cell_type": "code",
      "execution_count": null,
      "id": "ca6f3324",
      "metadata": {
        "id": "ca6f3324",
        "outputId": "ac325ef7-4579-4b83-bb5e-5068571f18b4"
      },
      "outputs": [
        {
          "name": "stdout",
          "output_type": "stream",
          "text": [
            "Name : Prashanth\n",
            "Age : 27\n",
            "Role : ML Engineer\n"
          ]
        }
      ],
      "source": [
        "dict = {'Name': 'Prashanth', 'Age': 27, 'Role': 'ML Engineer'}\n",
        "for i, j in dict.items():\n",
        "    print(i, \":\", j)"
      ]
    },
    {
      "cell_type": "code",
      "execution_count": null,
      "id": "3e18dd69",
      "metadata": {
        "id": "3e18dd69"
      },
      "outputs": [],
      "source": [
        "#unzipping\n",
        "\n",
        "pairs = [(1, 'a'), (2, 'b'), (3, 'c'), (4, 'd')]\n",
        "numbers, letters = zip(*pairs)"
      ]
    },
    {
      "cell_type": "code",
      "execution_count": null,
      "id": "687ebc7a",
      "metadata": {
        "id": "687ebc7a",
        "outputId": "27744a9a-09a0-463b-ea4c-8f84ca93e05e"
      },
      "outputs": [
        {
          "data": {
            "text/plain": [
              "(1, 2, 3, 4)"
            ]
          },
          "execution_count": 219,
          "metadata": {},
          "output_type": "execute_result"
        }
      ],
      "source": [
        "numbers"
      ]
    },
    {
      "cell_type": "code",
      "execution_count": null,
      "id": "8e08eef2",
      "metadata": {
        "id": "8e08eef2",
        "outputId": "606c7b64-d7ba-4550-c7b6-7d0c8c43172a"
      },
      "outputs": [
        {
          "data": {
            "text/plain": [
              "('a', 'b', 'c', 'd')"
            ]
          },
          "execution_count": 220,
          "metadata": {},
          "output_type": "execute_result"
        }
      ],
      "source": [
        "letters"
      ]
    },
    {
      "cell_type": "code",
      "execution_count": null,
      "id": "9b3db1df",
      "metadata": {
        "id": "9b3db1df",
        "outputId": "65735d9f-888b-4044-bbe5-8c62df2f86fb"
      },
      "outputs": [
        {
          "name": "stdout",
          "output_type": "stream",
          "text": [
            "Total profit: 5200.0\n",
            "Total profit: 5100.0\n",
            "Total profit: 4800.0\n"
          ]
        }
      ],
      "source": [
        "total_sales = [52000.00, 51000.00, 48000.00]\n",
        "prod_cost = [46800.00, 45900.00, 43200.00]\n",
        "\n",
        "for sales, costs in zip(total_sales, prod_cost):\n",
        "    profit = sales - costs\n",
        "    print(f'Total profit: {profit}')"
      ]
    },
    {
      "cell_type": "code",
      "execution_count": null,
      "id": "df254909",
      "metadata": {
        "id": "df254909",
        "outputId": "d043a35d-0441-45fd-cb3a-51e76b9ea4f4"
      },
      "outputs": [
        {
          "data": {
            "text/plain": [
              "[('name', 'John'),\n",
              " ('last_name', 'Doe'),\n",
              " ('age', '45'),\n",
              " ('job', 'Python Developer')]"
            ]
          },
          "execution_count": 233,
          "metadata": {},
          "output_type": "execute_result"
        }
      ],
      "source": [
        "fields = ['name', 'last_name', 'age', 'job']\n",
        "values = ['John', 'Doe', '45', 'Python Developer']\n",
        "\n",
        "a_dict = list(zip(fields, values))\n",
        "a_dict"
      ]
    },
    {
      "cell_type": "markdown",
      "source": [
        "Thank you"
      ],
      "metadata": {
        "id": "71IHtLkZj711"
      },
      "id": "71IHtLkZj711"
    }
  ],
  "metadata": {
    "kernelspec": {
      "display_name": "Python 3 (ipykernel)",
      "language": "python",
      "name": "python3"
    },
    "language_info": {
      "codemirror_mode": {
        "name": "ipython",
        "version": 3
      },
      "file_extension": ".py",
      "mimetype": "text/x-python",
      "name": "python",
      "nbconvert_exporter": "python",
      "pygments_lexer": "ipython3",
      "version": "3.10.9"
    },
    "colab": {
      "provenance": []
    }
  },
  "nbformat": 4,
  "nbformat_minor": 5
}