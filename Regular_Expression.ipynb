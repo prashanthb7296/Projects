{
  "nbformat": 4,
  "nbformat_minor": 0,
  "metadata": {
    "colab": {
      "provenance": []
    },
    "kernelspec": {
      "name": "python3",
      "display_name": "Python 3"
    },
    "language_info": {
      "name": "python"
    }
  },
  "cells": [
    {
      "cell_type": "markdown",
      "source": [
        "**Regular Expression in Python**"
      ],
      "metadata": {
        "id": "xib2LKLvbmpV"
      }
    },
    {
      "cell_type": "markdown",
      "source": [
        "**Name: Prashanth B**"
      ],
      "metadata": {
        "id": "oTUXx5JtbxvF"
      }
    },
    {
      "cell_type": "markdown",
      "source": [
        "# Customer Support (Order Number Retrieval)"
      ],
      "metadata": {
        "id": "LWynvulXduPv"
      }
    },
    {
      "cell_type": "code",
      "source": [
        "import re"
      ],
      "metadata": {
        "id": "iX1_Nw4o5wdz"
      },
      "execution_count": 13,
      "outputs": []
    },
    {
      "cell_type": "code",
      "execution_count": 31,
      "metadata": {
        "id": "sWuDbfvBbiqw"
      },
      "outputs": [],
      "source": [
        "#Complaint Examples\n",
        "customer_complaint_1 = \"Hello, I am having an issue with my order # 4128899812\"\n",
        "customer_complaint_2 = \"I have a problem with my order number 8802564662 and my phone number 9345464556\"\n",
        "customer_complaint_3 = \"My order 2594390952 is having an issue, I was charged 300$ when online it says 280$\""
      ]
    },
    {
      "cell_type": "code",
      "source": [
        "order_number_pattern = 'order[^\\d]*([\\d]*)'"
      ],
      "metadata": {
        "id": "EhR21XCn8LA_"
      },
      "execution_count": 28,
      "outputs": []
    },
    {
      "cell_type": "code",
      "source": [
        "order_number = re.findall(order_number_pattern, customer_complaint_1)\n",
        "order_number"
      ],
      "metadata": {
        "colab": {
          "base_uri": "https://localhost:8080/"
        },
        "id": "39Ywg9V8AEI_",
        "outputId": "bed21185-0d8e-4bb8-818e-7bcefcc13ea2"
      },
      "execution_count": 29,
      "outputs": [
        {
          "output_type": "execute_result",
          "data": {
            "text/plain": [
              "['4128899812']"
            ]
          },
          "metadata": {},
          "execution_count": 29
        }
      ]
    },
    {
      "cell_type": "code",
      "source": [
        "complaints = [customer_complaint_1, customer_complaint_2, customer_complaint_3]\n",
        "\n",
        "for i in range(len(complaints)):\n",
        "  order_number = re.findall(order_number_pattern, complaints[i])\n",
        "  print(f\"The order number of customer complaint:{i+1} is {order_number}\")"
      ],
      "metadata": {
        "colab": {
          "base_uri": "https://localhost:8080/"
        },
        "id": "XDysqHF99pii",
        "outputId": "a7f2b5cf-aca0-4426-9dda-73e1567ad77c"
      },
      "execution_count": 32,
      "outputs": [
        {
          "output_type": "stream",
          "name": "stdout",
          "text": [
            "The order number of customer complaint:1 is ['4128899812']\n",
            "The order number of customer complaint:2 is ['8802564662']\n",
            "The order number of customer complaint:3 is ['2594390952']\n"
          ]
        }
      ]
    },
    {
      "cell_type": "markdown",
      "source": [
        "# Email ID and Phone number Retrieval"
      ],
      "metadata": {
        "id": "OYv8WvG5BMTa"
      }
    },
    {
      "cell_type": "code",
      "source": [
        "customer_detail_1 = 'Sure phone number is 1235678912 and mail id is yuoidf@gmail.com'\n",
        "customer_detail_2 = 'Here it is: (123)-567-8912, ergreg@yahoo.io'\n",
        "customer_detail_3 = 'Uh yes, phone: +91 8234767892, email: bukpodrg@ai.in'"
      ],
      "metadata": {
        "id": "SjiSQn_X9vTe"
      },
      "execution_count": 36,
      "outputs": []
    },
    {
      "cell_type": "code",
      "source": [
        "mobile_number_pattern = '(\\d{10})|(\\([0-9]*\\)-[0-9]*-[0-9]*)|(\\+[0-9]*[\\s]*[0-9]*)'"
      ],
      "metadata": {
        "id": "_VzNEOdsCmai"
      },
      "execution_count": 45,
      "outputs": []
    },
    {
      "cell_type": "code",
      "source": [
        "mobile_number = re.findall(mobile_number_pattern, customer_detail_3)\n",
        "mobile_number"
      ],
      "metadata": {
        "colab": {
          "base_uri": "https://localhost:8080/"
        },
        "id": "pBAy9paXD0xM",
        "outputId": "3ed13533-ccec-4863-abbe-3d74d43fe3a1"
      },
      "execution_count": 76,
      "outputs": [
        {
          "output_type": "execute_result",
          "data": {
            "text/plain": [
              "[('', '', '+91 8234767892')]"
            ]
          },
          "metadata": {},
          "execution_count": 76
        }
      ]
    },
    {
      "cell_type": "code",
      "source": [
        "for i in range(len(mobile_number[0])):\n",
        "  if mobile_number[0][i] == '':\n",
        "    continue\n",
        "  else:\n",
        "    print(mobile_number[0][i])"
      ],
      "metadata": {
        "colab": {
          "base_uri": "https://localhost:8080/"
        },
        "id": "8CpRd1SwIyyi",
        "outputId": "12fc0661-766b-4879-e844-23f6b449ac2f"
      },
      "execution_count": 77,
      "outputs": [
        {
          "output_type": "stream",
          "name": "stdout",
          "text": [
            "+91 8234767892\n"
          ]
        }
      ]
    },
    {
      "cell_type": "code",
      "source": [
        "email_id_pattern = \"([a-zA-Z0-9_]*@[a-z]*\\.[a-z]*)\""
      ],
      "metadata": {
        "id": "_CdfHLKVJtgO"
      },
      "execution_count": 81,
      "outputs": []
    },
    {
      "cell_type": "code",
      "source": [
        "email_id = re.findall(email_id_pattern, customer_detail_1)\n",
        "email_id"
      ],
      "metadata": {
        "colab": {
          "base_uri": "https://localhost:8080/"
        },
        "id": "8rY8BjW-KM25",
        "outputId": "bbb31fd1-2926-4461-f5f2-a57d6749b7d5"
      },
      "execution_count": 83,
      "outputs": [
        {
          "output_type": "execute_result",
          "data": {
            "text/plain": [
              "['yuoidf@gmail.com']"
            ]
          },
          "metadata": {},
          "execution_count": 83
        }
      ]
    },
    {
      "cell_type": "code",
      "source": [
        "re.findall(email_id_pattern, customer_detail_2)"
      ],
      "metadata": {
        "colab": {
          "base_uri": "https://localhost:8080/"
        },
        "id": "pdHRhWzIKnZD",
        "outputId": "6965c7ba-e0a4-417a-843c-6351871b3490"
      },
      "execution_count": 84,
      "outputs": [
        {
          "output_type": "execute_result",
          "data": {
            "text/plain": [
              "['ergreg@yahoo.io']"
            ]
          },
          "metadata": {},
          "execution_count": 84
        }
      ]
    },
    {
      "cell_type": "code",
      "source": [
        "re.findall(email_id_pattern, customer_detail_3)"
      ],
      "metadata": {
        "colab": {
          "base_uri": "https://localhost:8080/"
        },
        "id": "2M7pUYdgKy4C",
        "outputId": "a834e1b0-1d46-40fa-ba0d-35f7f919a017"
      },
      "execution_count": 85,
      "outputs": [
        {
          "output_type": "execute_result",
          "data": {
            "text/plain": [
              "['bukpodrg@ai.in']"
            ]
          },
          "metadata": {},
          "execution_count": 85
        }
      ]
    },
    {
      "cell_type": "markdown",
      "source": [
        "**Thank you**"
      ],
      "metadata": {
        "id": "LySPW4IGL0yC"
      }
    }
  ]
}